{
 "cells": [
  {
   "cell_type": "markdown",
   "id": "edf00265",
   "metadata": {},
   "source": [
    "# Case Study 4\n",
    "\n",
    "Use Random Forest and XGBoost to accurately predict bankruptcy. Tune your models for maximum accuracy, but include precision and recall as summary metrics.\n",
    "\n",
    "Based on [\"Ensemble boosted trees with synthetic features generation in application to bankruptcy prediction\"](https://libkey.io/libraries/146/articles/58456660/full-text-file?utm_source=api_1965). The paper provides details on the attributes and results for various classification models. Your can get the paper for free through the library by signing in with your SMU credentials.\n",
    "\n",
    "```{admonition} Note\n",
    "- Multiple years not to be used as a timeseries\n",
    "- Missing data\n",
    "- You should be able to achieve the same model performances as in the paper\n",
    "- Model should be tuned using hyper-parameter optimization, see [here](https://scikit-learn.org/stable/modules/grid_search.html#exhaustive-grid-search)\n",
    "```"
   ]
  },
  {
   "cell_type": "code",
   "execution_count": null,
   "id": "2a1a8e9e",
   "metadata": {},
   "outputs": [],
   "source": [
    "import numpy as np\n",
    "import pandas as pd\n",
    "from scipy.io.arff import loadarff"
   ]
  },
  {
   "cell_type": "markdown",
   "id": "80a41db8",
   "metadata": {},
   "source": [
    "## Loading ARFF Files"
   ]
  },
  {
   "cell_type": "code",
   "execution_count": null,
   "id": "ce11fc24",
   "metadata": {},
   "outputs": [],
   "source": [
    "raw_data = loadarff(\"./data/case_study_4/1year.arff\")\n",
    "df = pd.DataFrame(raw_data[0])"
   ]
  },
  {
   "cell_type": "code",
   "execution_count": null,
   "id": "b470e750",
   "metadata": {},
   "outputs": [],
   "source": [
    "df.head()"
   ]
  },
  {
   "cell_type": "code",
   "execution_count": null,
   "id": "b9afa716",
   "metadata": {},
   "outputs": [],
   "source": [
    "df.describe()"
   ]
  },
  {
   "cell_type": "code",
   "execution_count": null,
   "id": "7edfd8ab",
   "metadata": {},
   "outputs": [],
   "source": [
    "df.shape"
   ]
  },
  {
   "cell_type": "code",
   "execution_count": null,
   "id": "1575d2a7",
   "metadata": {},
   "outputs": [],
   "source": []
  }
 ],
 "metadata": {
  "kernelspec": {
   "display_name": "Python 3 (ipykernel)",
   "language": "python",
   "name": "python3"
  },
  "language_info": {
   "codemirror_mode": {
    "name": "ipython",
    "version": 3
   },
   "file_extension": ".py",
   "mimetype": "text/x-python",
   "name": "python",
   "nbconvert_exporter": "python",
   "pygments_lexer": "ipython3",
   "version": "3.11.5"
  }
 },
 "nbformat": 4,
 "nbformat_minor": 5
}
